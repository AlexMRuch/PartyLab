{
 "cells": [
  {
   "cell_type": "code",
   "execution_count": 1,
   "metadata": {},
   "outputs": [],
   "source": [
    "import pymysql\n",
    "import pandas as pd\n",
    "\n",
    "conn = pymysql.connect(\n",
    "    host=\"thirdtest.camwsondhmqr.us-east-2.rds.amazonaws.com\",\n",
    "    user=\"thirdtest\",\n",
    "    passwd=\"Qja1998+0325\",\n",
    "    db=\"ebdb\"\n",
    ")\n",
    "cursor = conn.cursor()"
   ]
  },
  {
   "cell_type": "code",
   "execution_count": 2,
   "metadata": {},
   "outputs": [
    {
     "data": {
      "text/html": [
       "<div>\n",
       "<style scoped>\n",
       "    .dataframe tbody tr th:only-of-type {\n",
       "        vertical-align: middle;\n",
       "    }\n",
       "\n",
       "    .dataframe tbody tr th {\n",
       "        vertical-align: top;\n",
       "    }\n",
       "\n",
       "    .dataframe thead th {\n",
       "        text-align: right;\n",
       "    }\n",
       "</style>\n",
       "<table border=\"1\" class=\"dataframe\">\n",
       "  <thead>\n",
       "    <tr style=\"text-align: right;\">\n",
       "      <th></th>\n",
       "      <th>Turn</th>\n",
       "      <th>Name</th>\n",
       "      <th>Political Stance</th>\n",
       "      <th>Session</th>\n",
       "      <th>Question Order</th>\n",
       "      <th>World</th>\n",
       "    </tr>\n",
       "  </thead>\n",
       "  <tbody>\n",
       "    <tr>\n",
       "      <th>0</th>\n",
       "      <td>1</td>\n",
       "      <td>hsoijk</td>\n",
       "      <td></td>\n",
       "      <td>5b895e5490e48</td>\n",
       "      <td>23,24,1,19,21,7,13,8,15,18,9,6,17,14,22,20,10,...</td>\n",
       "      <td>2</td>\n",
       "    </tr>\n",
       "  </tbody>\n",
       "</table>\n",
       "</div>"
      ],
      "text/plain": [
       "   Turn    Name Political Stance        Session  \\\n",
       "0     1  hsoijk                   5b895e5490e48   \n",
       "\n",
       "                                      Question Order  World  \n",
       "0  23,24,1,19,21,7,13,8,15,18,9,6,17,14,22,20,10,...      2  "
      ]
     },
     "execution_count": 2,
     "metadata": {},
     "output_type": "execute_result"
    }
   ],
   "source": [
    "cursor.execute('SELECT * FROM user');\n",
    "rows = cursor.fetchall()\n",
    "\n",
    "df_users = pd.DataFrame( [[ij for ij in i] for i in rows] )\n",
    "df_users.rename(\n",
    "    columns={0:'Name', 1:'Political Stance', 2:'Session', 3:'Question Order', 4:'Current Question', 5:'World'},\n",
    "    inplace=True\n",
    ")\n",
    "#df_users = df_users.sort_values(['Name'], ascending=[1])\n",
    "df_users['Turn'] = range(1,len(df_users)+1)\n",
    "df_users = df_users[['Turn','Name','Political Stance','Session', 'Question Order', 'World']]\n",
    "df_users"
   ]
  },
  {
   "cell_type": "code",
   "execution_count": 3,
   "metadata": {},
   "outputs": [],
   "source": [
    "cursor.execute('TRUNCATE ebdb.user');\n",
    "cursor.execute('TRUNCATE ebdb.user_question_world_answer');"
   ]
  },
  {
   "cell_type": "code",
   "execution_count": 5,
   "metadata": {},
   "outputs": [
    {
     "data": {
      "text/plain": [
       "()"
      ]
     },
     "execution_count": 5,
     "metadata": {},
     "output_type": "execute_result"
    }
   ],
   "source": [
    "cursor.execute('SELECT * FROM user');\n",
    "rows = cursor.fetchall()\n",
    "\n",
    "rows"
   ]
  }
 ],
 "metadata": {
  "kernelspec": {
   "display_name": "Python 3",
   "language": "python",
   "name": "python3"
  },
  "language_info": {
   "codemirror_mode": {
    "name": "ipython",
    "version": 3
   },
   "file_extension": ".py",
   "mimetype": "text/x-python",
   "name": "python",
   "nbconvert_exporter": "python",
   "pygments_lexer": "ipython3",
   "version": "3.6.6"
  }
 },
 "nbformat": 4,
 "nbformat_minor": 2
}
