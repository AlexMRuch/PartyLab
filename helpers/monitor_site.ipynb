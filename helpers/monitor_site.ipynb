{
 "cells": [
  {
   "cell_type": "markdown",
   "metadata": {},
   "source": [
    "# Tested Code"
   ]
  },
  {
   "cell_type": "code",
   "execution_count": null,
   "metadata": {},
   "outputs": [],
   "source": [
    "email = 'sebastian.deri@gmail.com'\n",
    "password = 'Sociologytemporary1!'"
   ]
  },
  {
   "cell_type": "code",
   "execution_count": 145,
   "metadata": {},
   "outputs": [],
   "source": [
    "\"\"\"\n",
    "Use monitor_site() to monitor TurkPrime recruitment.\n",
    "Helper funtions: get_surveyid, add_recruit\n",
    "\"\"\"\n",
    "\n",
    "#load dependencies\n",
    "from selenium import webdriver\n",
    "from selenium.webdriver.common.keys import Keys\n",
    "from selenium.webdriver.support.ui import Select\n",
    "from bs4 import BeautifulSoup\n",
    "import re\n",
    "import time\n",
    "import random"
   ]
  },
  {
   "cell_type": "code",
   "execution_count": 12,
   "metadata": {},
   "outputs": [],
   "source": [
    "#main function\n",
    "\n",
    "def monitor_site(email, password, study, worlds, recruits):\n",
    "    \"\"\"\n",
    "    The function monitor_site() has 5 parameters:\n",
    "        1) email (TurkPrime email)\n",
    "        2) password (TurkPrime password)\n",
    "        3) study (root name of study HITs to monitor)\n",
    "        4) worlds (number of experimental worlds)\n",
    "        5) recruits (# total recruits per world, with 1:1 ratio per group),\n",
    "        \n",
    "    Running monitor_site('usr@exp.com', \"mypw\", 'Experiment', 20, 1) will\n",
    "        1) log into TurkPrime with \"usr@exp.com\" and \"mypw\"\n",
    "        2) monitor studies with 'Experiment' root name (e.g., Experiment1D),\n",
    "        3) recruit 20 people to 1 experimental world (10 Dems, 10 Reps),\n",
    "    \"\"\"\n",
    "    \n",
    "    print(\"You are about to monitor a study with the following parameters:\")\n",
    "    print(\"{} worlds\".format(worlds))\n",
    "    print(\"{} recruit(s) per world\".format(recruits))\n",
    "    progress = str(input(\"Are the above parameters correct? Enter Y/N:\")).lower()\n",
    "    while True:\n",
    "        if progress == 'y':\n",
    "            print(\"Continuing on to monitor the recruitment website...\")\n",
    "            break\n",
    "        else:\n",
    "            raise RuntimeError(\"Breaking: check function parameters or input\")\n",
    "\n",
    "    #Create new Chrome session to access TurkPrime\n",
    "    url_TP = \"https://account.turkprime.com/Account/Login\"\n",
    "    driver = webdriver.Chrome(\"/usr/local/bin/chromedriver\") #Mac location\n",
    "    driver.implicitly_wait(10) #if load fails in 10s, give error\n",
    "    driver.get(url_TP)\n",
    "    time.sleep(5) #wait for TP login page load\n",
    "\n",
    "    #Log into TP with username and pw\n",
    "    try:\n",
    "        print(\"Logging into TurkPrime...\")\n",
    "        inputRemem = driver.find_element_by_xpath('/html/body/div[1]/div/div/div/form[1]/div[3]/div[3]/div[1]/label').click()\n",
    "        inputEmail = driver.find_element_by_xpath('//*[@id=\"Email\"]')\n",
    "        inputEmail.send_keys(email)\n",
    "        inputPass = driver.find_element_by_xpath('//*[@id=\"Password\"]')\n",
    "        inputPass.send_keys(password)\n",
    "        inputPass.send_keys(Keys.ENTER)\n",
    "        time.sleep(5) #wait after login\n",
    "    except:\n",
    "        raise RuntimeError(\"  Bot error: could not log in\")\n",
    "\n",
    "    #Navigate to Dashboard page and display 20 studies\n",
    "    try:\n",
    "        print(\"Navigating to Dashboard...\")\n",
    "        url_Dash = 'https://www.turkprime.com/LaunchedSurvey/Dashboard?page=1&filter=Live%2FPending&itemsPerPage=20'\n",
    "        driver.get(url_Dash)\n",
    "        time.sleep(5)\n",
    "    except:\n",
    "        raise RuntimeError(\"  Bot error: could not navigate to Dashboard\")\n",
    "        \n",
    "    #"
   ]
  },
  {
   "cell_type": "code",
   "execution_count": null,
   "metadata": {},
   "outputs": [],
   "source": [
    "#helper functions\n",
    "\n",
    "def get_surveyid(HITposition):\n",
    "    HITposition = str(HITposition)\n",
    "    print(\"Getting survey id for HIT {}...\".format(HITposition))\n",
    "    surveyid = driver.find_element_by_xpath(\n",
    "            '//*[@id=\"surveyTableBody\"]/tr[' +\n",
    "            HITposition +\n",
    "            ']/td[1]/div/ul/li[3]/span'\n",
    "        )\n",
    "    surveyid = surveyid.text[surveyid.text.index(\":\")+2:] #slice off id\n",
    "    print(\"  Extracted survey id for HIT {}: {}\".format(HITposition,surveyid))\n",
    "    return surveyid\n",
    "\n",
    "\n",
    "def add_recruit(HITposition):\n",
    "    try:\n",
    "        print(\"Editing HIT {}: addding recruit...\".format(str(HITposition)))\n",
    "        surveyid = get_surveyid(HITposition)\n",
    "        url_HIT_edit = 'https://www.turkprime.com/LaunchedSurvey/EditPanelStudyToolkit/'+surveyid\n",
    "        driver.get(url_HIT_edit)   \n",
    "        time.sleep(5)\n",
    "        #driver.find_element_by_xpath('//*[@id=\"page-top\"]/div[6]/div/div[10]/button[1]').click() #edit warning\n",
    "        #time.sleep(5)\n",
    "    except:\n",
    "        raise RuntimeError(\"  Bot error: could not edit HIT\") \n",
    "    try:\n",
    "        print(\"Updating HIT {} recruit count...\".format(str(HITposition)))\n",
    "        recruitsCurrent = driver.find_element_by_id(\"LaunchedSurveySettings_ParticipantsCount\")\n",
    "        recruitsCurrentN = recruitsCurrent.get_attribute(\"value\")\n",
    "        print(\"  HIT {} presently has {} recruits\".format(str(HITposition),recruitsCurrentN))\n",
    "        recruitsUpdatedN = str(int(recruitsCurrentN) + 1)\n",
    "        recruitsCurrent.clear()\n",
    "        recruitsCurrent.send_keys(recruitsUpdatedN)\n",
    "        print(\"  HIT {} updated to have {} recruits\".format(str(HITposition),recruitsUpdatedN))\n",
    "        time.sleep(3)\n",
    "    except:\n",
    "        raise RuntimeError(\"  Bot error: could not add another recruit\")\n",
    "    try:\n",
    "        print(\"Navigating to HIT {} save page...\".format(str(HITposition)))\n",
    "        driver.find_element_by_xpath('//*[@id=\"design-wizard-t-8\"]').click()\n",
    "        time.sleep(3)\n",
    "    except:\n",
    "        raise RuntimeError(\"  Bot error: could not navigate to save HIT page\") \n",
    "    try:\n",
    "        print(\"Saving HIT {}...\".format(str(HITposition)))\n",
    "        driver.find_element_by_xpath('//*[@id=\"submitBtn\"]').click()\n",
    "        time.sleep(3)\n",
    "    except:\n",
    "        raise RuntimeError(\"  Bot error: could not save HIT\") \n",
    "    print(\"HIT {} sucessfully updated!\".format(str(HITposition)))\n",
    "    print(\"************************************************************\\n\")"
   ]
  },
  {
   "cell_type": "code",
   "execution_count": 13,
   "metadata": {},
   "outputs": [
    {
     "name": "stdout",
     "output_type": "stream",
     "text": [
      "You are about to monitor a study with the following parameters:\n",
      "20 worlds\n",
      "1 recruits per world\n"
     ]
    },
    {
     "name": "stdin",
     "output_type": "stream",
     "text": [
      "Are the above parameters correct? Enter Y/N: y\n"
     ]
    },
    {
     "name": "stdout",
     "output_type": "stream",
     "text": [
      "Continuing on to monitor the recruitment website...\n",
      "Attempting to log into TurkPrime...\n",
      "Navigating to Dashboard...\n",
      "Updating Dashboard display settings...\n"
     ]
    }
   ],
   "source": [
    "monitor_site(email, password, \"Pilot\", 20, 1, 60)"
   ]
  },
  {
   "cell_type": "code",
   "execution_count": null,
   "metadata": {},
   "outputs": [],
   "source": []
  },
  {
   "cell_type": "markdown",
   "metadata": {},
   "source": [
    "# Code to Test Next"
   ]
  },
  {
   "cell_type": "code",
   "execution_count": 142,
   "metadata": {},
   "outputs": [
    {
     "name": "stdout",
     "output_type": "stream",
     "text": [
      "Logging into TurkPrime...\n",
      "Navigating to Dashboard...\n",
      "Editing HIT 1: addding recruit...\n",
      "Getting survey id for HIT 1...\n",
      "  Extracted survey id for HIT 1: 104873\n",
      "Updating HIT recruit count...\n",
      "  HIT presently has 9 recruits\n",
      "  HIT updated to have 10 recruits\n",
      "Navigating to save HIT page...\n",
      "Saving HIT...\n"
     ]
    }
   ],
   "source": [
    "#Create new Chrome session to access TurkPrime\n",
    "url_TP = \"https://account.turkprime.com/Account/Login\"\n",
    "driver = webdriver.Chrome(\"/usr/local/bin/chromedriver\") #Mac location\n",
    "driver.implicitly_wait(10) #if load fails in 10s, give error\n",
    "driver.get(url_TP)\n",
    "time.sleep(5) #wait for TP login page load\n",
    "\n",
    "#Log into TP with username and pw\n",
    "try:\n",
    "    print(\"Logging into TurkPrime...\")\n",
    "    inputRemem = driver.find_element_by_xpath('/html/body/div[1]/div/div/div/form[1]/div[3]/div[3]/div[1]/label').click()\n",
    "    inputEmail = driver.find_element_by_xpath('//*[@id=\"Email\"]')\n",
    "    inputEmail.send_keys(email)\n",
    "    inputPass = driver.find_element_by_xpath('//*[@id=\"Password\"]')\n",
    "    inputPass.send_keys(password)\n",
    "    inputPass.send_keys(Keys.ENTER)\n",
    "    time.sleep(5) #wait after login\n",
    "except:\n",
    "    raise RuntimeError(\"  Bot error: could not log in\")\n",
    "\n",
    "#Navigate to Dashboard page and display 20 studies\n",
    "try:\n",
    "    print(\"Navigating to Dashboard...\")\n",
    "    url_Dash = 'https://www.turkprime.com/LaunchedSurvey/Dashboard?page=1&filter=Live%2FPending&itemsPerPage=20'\n",
    "    driver.get(url_Dash)\n",
    "    time.sleep(5)\n",
    "except:\n",
    "    raise RuntimeError(\"  Bot error: could not navigate to Dashboard\")\n",
    "\n"
   ]
  },
  {
   "cell_type": "code",
   "execution_count": null,
   "metadata": {},
   "outputs": [],
   "source": []
  },
  {
   "cell_type": "markdown",
   "metadata": {},
   "source": [
    "# Untested Code"
   ]
  },
  {
   "cell_type": "code",
   "execution_count": null,
   "metadata": {},
   "outputs": [],
   "source": [
    "#Initialize study group classes\n",
    "print(\"Initializing study group classes...\")\n",
    "index = 1 #initialize study group index position on Dashboard website\n",
    "for world in range(1,11):\n",
    "    globals()['ExperimentD{}'.format(world)] = expGroup('ExperimentD'+str(world), index, 0, 10)\n",
    "    index += 2 #increment index to odds to match Dashboard study indexing\n",
    "    globals()['ExperimentR{}'.format(world)] = expGroup('ExperimentR'+str(world), index, 0, 10)\n",
    "    index += 2\n",
    "\n",
    "#Monitor recruitment from Dashboard\n",
    "print(\"Begin monitoring recruitment website from Dashboard...\") #TODO: include timer, counter, etc. to check still running\n",
    "recruit = None #TODO: sum progress cells\n",
    "while recruit <= recruits:\n",
    "    pass\n",
    "\n",
    "    recruit += 1\n",
    "\n",
    "#End monitoring\n",
    "print(\"************************************************************\")\n",
    "print(\"************************************************************\")\n",
    "print(\"RECRUITMENT MONITORING ENDED\")\n",
    "print(\"Please make sure your TurkPrime account is in good order now.\")\n",
    "closeBrowser = str(input(\"Do you wish to close the bot's browser? Enter Y/N: \")).lower()\n",
    "if closeBrowser == \"y\":\n",
    "    driver.quit()\n",
    "else:\n",
    "    pass\n",
    "print(\"This program is now complete.\")\n",
    "print(\"Goodbye!\")"
   ]
  },
  {
   "cell_type": "code",
   "execution_count": 216,
   "metadata": {},
   "outputs": [],
   "source": [
    "class expGroup:\n",
    "    \"\"\"\n",
    "    A group of participants with the same party in the same world.\n",
    "    \"\"\"\n",
    "    \n",
    "    global driver\n",
    "    global soup\n",
    "    \n",
    "    def __init__(self, groupName, groupIndex, completed, remaining):\n",
    "        self.name      = groupName #project title for group name on TurkPrime\n",
    "        self.index     = groupIndex #study group index position on Dashboard\n",
    "        self.completed = completed #how many recruits completed the test so far\n",
    "        self.remaining = remaining #how many recruits remain to be recruited\n",
    "        self.root      = '//*[@id=\"surveyTableBody\"]/tr['\n",
    "        self.project   = root + str(groupIndex) + ']/td[1]/div/ul/li[1]/span/a'\n",
    "        self.surveyID  = root + str(groupIndex) + ']/td[1]/div/ul/li[3]/span/span'\n",
    "        self.progress  = root + str(groupIndex) + ']/td[3]/div[1]/div/p'\n",
    "        self.launch    = root + str(groupIndex) + ']/td[4]/div/ul/li[1]/a'\n",
    "        self.pause     = root + str(groupIndex) + ']/td[4]/div/ul/li[2]/a'\n",
    "        self.resume    = root + str(groupIndex) + ']/td[4]/div/ul/li[2]/a'\n",
    "        \n",
    "    def check_surveyID(self):\n",
    "        return self.name in driver.find_element_by_xpath(self.surveyID)\n",
    "    \n",
    "    def check_progress(self):\n",
    "        return driver.find_element_by_xpath(self.progress)\n",
    "            \n",
    "    def __eq__(self, other):\n",
    "        \"\"\"Override the default equals behavior\"\"\"\n",
    "        return self.completed == other.completed\n",
    "    \n",
    "    def __lt__(self, other):\n",
    "        \"\"\"Override the default less than behavior\"\"\"\n",
    "        return self.completed < other.completed\n",
    "    \n",
    "    def __gt__(self, other):\n",
    "        \"\"\"Override the default greater than behavior\"\"\"\n",
    "        return self.completed > other.completed\n",
    "    \n",
    "    def compare_progress(self, other):\n",
    "        if self.completed == other.completed:\n",
    "            return \"Equal\"\n",
    "        elif self.completed > other.completed:\n",
    "            print(self.name, \"is ahead of\", other.name, \"by\",\n",
    "                str(self.completed - other.completed) + \":\",\n",
    "                self.completed, \"to\", other.completed)\n",
    "            return self\n",
    "        else:\n",
    "            print(other.name, \"is ahead of\", self.name, \"by\",\n",
    "                str(self.completed - other.completed) + \":\", \n",
    "                other.completed, \"to\", self.completed)\n",
    "            return other\n",
    "        \n",
    "    def click_launch(self):\n",
    "        driver.find_element_by_xpath(self.launch).click()\n",
    "    \n",
    "    def click_pause(self):\n",
    "        driver.find_element_by_xpath(self.pause).click()\n",
    "    \n",
    "    def click_resume(self):\n",
    "        driver.find_element_by_xpath(self.resume).click()\n",
    "\n",
    "    def recruit_completed(self, completed):\n",
    "        #Increment completed count up and number remaining down\n",
    "        self.completed += completed\n",
    "        self.remaining -= completed\n",
    "        \n",
    "    def recruits_add(self, add):\n",
    "        #Increase number of recruits remaining in group\n",
    "        self.remaining += add"
   ]
  },
  {
   "cell_type": "code",
   "execution_count": 217,
   "metadata": {},
   "outputs": [
    {
     "name": "stdout",
     "output_type": "stream",
     "text": [
      "{'name': 'ExperimentD1', 'index': 1, 'completed': 1, 'remaining': 9, 'root': '//*[@id=\"surveyTableBody\"]/tr[', 'project': '//*[@id=\"surveyTableBody\"]/tr[1]/td[1]/div/ul/li[1]/span/a', 'surveyID': '//*[@id=\"surveyTableBody\"]/tr[1]/td[1]/div/ul/li[3]/span/span', 'progress': '//*[@id=\"surveyTableBody\"]/tr[1]/td[3]/div[1]/div/p', 'launch': '//*[@id=\"surveyTableBody\"]/tr[1]/td[4]/div/ul/li[1]/a', 'pause': '//*[@id=\"surveyTableBody\"]/tr[1]/td[4]/div/ul/li[2]/a', 'resume': '//*[@id=\"surveyTableBody\"]/tr[1]/td[4]/div/ul/li[2]/a'} \n",
      "\n",
      "{'name': 'ExperimentR1', 'index': 3, 'completed': 0, 'remaining': 10, 'root': '//*[@id=\"surveyTableBody\"]/tr[', 'project': '//*[@id=\"surveyTableBody\"]/tr[3]/td[1]/div/ul/li[1]/span/a', 'surveyID': '//*[@id=\"surveyTableBody\"]/tr[3]/td[1]/div/ul/li[3]/span/span', 'progress': '//*[@id=\"surveyTableBody\"]/tr[3]/td[3]/div[1]/div/p', 'launch': '//*[@id=\"surveyTableBody\"]/tr[3]/td[4]/div/ul/li[1]/a', 'pause': '//*[@id=\"surveyTableBody\"]/tr[3]/td[4]/div/ul/li[2]/a', 'resume': '//*[@id=\"surveyTableBody\"]/tr[3]/td[4]/div/ul/li[2]/a'} \n",
      "\n",
      "ExperimentD1 is ahead of ExperimentR1 by 1: 1 to 0\n"
     ]
    },
    {
     "data": {
      "text/plain": [
       "<__main__.expGroup at 0x107712cf8>"
      ]
     },
     "execution_count": 217,
     "metadata": {},
     "output_type": "execute_result"
    }
   ],
   "source": [
    "index = 1\n",
    "for world in range(1,11):\n",
    "    globals()['ExperimentD{}'.format(world)] = expGroup('ExperimentD'+str(world), index, 0, 10)\n",
    "    index += 2\n",
    "    globals()['ExperimentR{}'.format(world)] = expGroup('ExperimentR'+str(world), index, 0, 10)\n",
    "    index += 2\n",
    "\n",
    "ExperimentD1.recruit_completed(1)\n",
    "print(vars(ExperimentD1),'\\n')\n",
    "print(vars(ExperimentR1),'\\n')\n",
    "ExperimentD1.compare_progress(ExperimentR1)"
   ]
  },
  {
   "cell_type": "markdown",
   "metadata": {},
   "source": [
    "# OLD CODE"
   ]
  },
  {
   "cell_type": "code",
   "execution_count": null,
   "metadata": {},
   "outputs": [],
   "source": [
    "# Find user metadata\n",
    "userOverview = soup.find(\n",
    "    'div',\n",
    "    attrs = {'class': 'core-summary d-flex flex-wrap justify-content-center'}\n",
    ")\n",
    "dataType = ['comments', 'submissions', '% controversial', 'karma/comment', 'karma/submission']\n",
    "dataLabels = ['comments', 'submissions', 'controversial', 'karmaComment', 'karmaSubmission']\n",
    "i = 0\n",
    "for data in dataType:\n",
    "    dataValue = userOverview.find(\n",
    "        'div', {'data-value':True, 'data-type':data}\n",
    "    )['data-value']\n",
    "    dataDict[dataLabels[i]] = float(dataValue)\n",
    "    i += 1\n",
    "\n",
    "kindness = soup.find(\n",
    "    'div',\n",
    "    attrs = {'class':'progress'}\n",
    ").find(\n",
    "    'div',\n",
    "    attrs = {'aria-valuenow':True}\n",
    ")['aria-valuenow']\n",
    "dataDict['kindness'] = float(kindness)\n",
    "\n",
    "textComplexity = soup.find(\n",
    "    'p',\n",
    "    attrs = {'class':'gradient-uppercase'}\n",
    ")\n",
    "textComplexity = re.search(r'>(.*)<', str(textComplexity)).group(1)\n",
    "dataDict['textComplexity'] = textComplexity\n",
    "\n",
    "bestComment = soup.find(\n",
    "    'span',\n",
    "    attrs = {'class':'orangered-color'}\n",
    ")\n",
    "bestComment = re.search(r'>(.*)<', str(bestComment)).group(1)\n",
    "dataDict['bestComment'] = float(bestComment)\n",
    "\n",
    "worstComment = soup.find(\n",
    "    'span',\n",
    "    attrs = {'class':'periwinkle-color'}\n",
    ")\n",
    "worstComment = re.search(r'>(.*)<', str(worstComment)).group(1)\n",
    "dataDict['worstComment'] = float(worstComment)"
   ]
  }
 ],
 "metadata": {
  "kernelspec": {
   "display_name": "Python 3",
   "language": "python",
   "name": "python3"
  },
  "language_info": {
   "codemirror_mode": {
    "name": "ipython",
    "version": 3
   },
   "file_extension": ".py",
   "mimetype": "text/x-python",
   "name": "python",
   "nbconvert_exporter": "python",
   "pygments_lexer": "ipython3",
   "version": "3.6.6"
  }
 },
 "nbformat": 4,
 "nbformat_minor": 2
}
