{
 "cells": [
  {
   "cell_type": "code",
   "execution_count": 3,
   "metadata": {},
   "outputs": [],
   "source": [
    "import plotly\n",
    "import plotly.plotly as py\n",
    "import plotly.graph_objs as go\n",
    "import pymysql\n",
    "import pandas as pd"
   ]
  },
  {
   "cell_type": "code",
   "execution_count": 4,
   "metadata": {
    "collapsed": true
   },
   "outputs": [],
   "source": [
    "conn = pymysql.connect(\n",
    "    host=\"thirdtest.camwsondhmqr.us-east-2.rds.amazonaws.com\",\n",
    "    user=\"thirdtest\",\n",
    "    passwd=\"Qja1998+0325\",\n",
    "    db=\"ebdb\"\n",
    ")\n",
    "cursor = conn.cursor()"
   ]
  },
  {
   "cell_type": "code",
   "execution_count": 5,
   "metadata": {},
   "outputs": [
    {
     "data": {
      "text/plain": [
       "\"(('test3', 'Republicans', '5b6c5d06a3963', '5,8,15,2,3,14,10,4,11,7,18,6,19,16,1,12,20,13,9,17', '17', 5), ('test6', 'Democrats', '5b6c5dc2c02eb', '16,7,10,3,5,11,8,1,15,12,19,17,13,18,20,6,4,14,9,2', '2', 5), ('test22', 'Democrats', '5b6c626cc8e44', '4,16,14,6,19,7,8,18,3,11,1,12,13,10,5,2,17,15,9,\""
      ]
     },
     "execution_count": 5,
     "metadata": {},
     "output_type": "execute_result"
    }
   ],
   "source": [
    "cursor.execute('SELECT * FROM user WHERE world = 5');\n",
    "rows = cursor.fetchall()\n",
    "str(rows)[0:300]"
   ]
  },
  {
   "cell_type": "code",
   "execution_count": 7,
   "metadata": {
    "collapsed": true
   },
   "outputs": [],
   "source": [
    "df = pd.DataFrame( [[ij for ij in i] for i in rows] )\n",
    "df.rename(\n",
    "    columns={0:'Name', 1:'Political Stance', 2:'Session', 3:'Question Order', 4:'Current Question', 5:'World'},\n",
    "    inplace=True\n",
    ")\n",
    "df = df.sort_values(['Name'], ascending=[1])"
   ]
  },
  {
   "cell_type": "code",
   "execution_count": 8,
   "metadata": {},
   "outputs": [
    {
     "name": "stderr",
     "output_type": "stream",
     "text": [
      "/Users/amruch/anaconda3/lib/python3.6/site-packages/ipykernel_launcher.py:6: SettingWithCopyWarning:\n",
      "\n",
      "\n",
      "A value is trying to be set on a copy of a slice from a DataFrame\n",
      "\n",
      "See the caveats in the documentation: http://pandas.pydata.org/pandas-docs/stable/indexing.html#indexing-view-versus-copy\n",
      "\n"
     ]
    }
   ],
   "source": [
    "country_names = df['Name']\n",
    "for i in range(len(country_names)):\n",
    "    try:\n",
    "        country_names[i] = str(country_names[i]).decode('utf-8')\n",
    "    except:\n",
    "        country_names[i] = 'name decode error'"
   ]
  },
  {
   "cell_type": "code",
   "execution_count": null,
   "metadata": {},
   "outputs": [],
   "source": []
  },
  {
   "cell_type": "code",
   "execution_count": null,
   "metadata": {
    "collapsed": true
   },
   "outputs": [],
   "source": []
  }
 ],
 "metadata": {
  "kernelspec": {
   "display_name": "Python 3",
   "language": "python",
   "name": "python3"
  },
  "language_info": {
   "codemirror_mode": {
    "name": "ipython",
    "version": 3
   },
   "file_extension": ".py",
   "mimetype": "text/x-python",
   "name": "python",
   "nbconvert_exporter": "python",
   "pygments_lexer": "ipython3",
   "version": "3.6.6"
  }
 },
 "nbformat": 4,
 "nbformat_minor": 2
}
